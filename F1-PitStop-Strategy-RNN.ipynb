{
  "nbformat": 4,
  "nbformat_minor": 0,
  "metadata": {
    "colab": {
      "provenance": [],
      "gpuType": "A100"
    },
    "kernelspec": {
      "name": "python3",
      "display_name": "Python 3"
    },
    "language_info": {
      "name": "python"
    },
    "accelerator": "GPU"
  },
  "cells": [
    {
      "cell_type": "code",
      "execution_count": 1,
      "metadata": {
        "id": "rmibefHlAoQl",
        "colab": {
          "base_uri": "https://localhost:8080/"
        },
        "outputId": "dda268b3-4984-4f85-b863-1b2b480c1687"
      },
      "outputs": [
        {
          "output_type": "stream",
          "name": "stdout",
          "text": [
            "Requirement already satisfied: tensorflow in /usr/local/lib/python3.11/dist-packages (2.18.0)\n",
            "Requirement already satisfied: scikit-learn in /usr/local/lib/python3.11/dist-packages (1.6.1)\n",
            "Requirement already satisfied: numpy in /usr/local/lib/python3.11/dist-packages (1.26.4)\n",
            "Requirement already satisfied: pandas in /usr/local/lib/python3.11/dist-packages (2.2.2)\n",
            "Requirement already satisfied: matplotlib in /usr/local/lib/python3.11/dist-packages (3.10.0)\n",
            "Requirement already satisfied: seaborn in /usr/local/lib/python3.11/dist-packages (0.13.2)\n",
            "Requirement already satisfied: absl-py>=1.0.0 in /usr/local/lib/python3.11/dist-packages (from tensorflow) (1.4.0)\n",
            "Requirement already satisfied: astunparse>=1.6.0 in /usr/local/lib/python3.11/dist-packages (from tensorflow) (1.6.3)\n",
            "Requirement already satisfied: flatbuffers>=24.3.25 in /usr/local/lib/python3.11/dist-packages (from tensorflow) (25.2.10)\n",
            "Requirement already satisfied: gast!=0.5.0,!=0.5.1,!=0.5.2,>=0.2.1 in /usr/local/lib/python3.11/dist-packages (from tensorflow) (0.6.0)\n",
            "Requirement already satisfied: google-pasta>=0.1.1 in /usr/local/lib/python3.11/dist-packages (from tensorflow) (0.2.0)\n",
            "Requirement already satisfied: libclang>=13.0.0 in /usr/local/lib/python3.11/dist-packages (from tensorflow) (18.1.1)\n",
            "Requirement already satisfied: opt-einsum>=2.3.2 in /usr/local/lib/python3.11/dist-packages (from tensorflow) (3.4.0)\n",
            "Requirement already satisfied: packaging in /usr/local/lib/python3.11/dist-packages (from tensorflow) (24.2)\n",
            "Requirement already satisfied: protobuf!=4.21.0,!=4.21.1,!=4.21.2,!=4.21.3,!=4.21.4,!=4.21.5,<6.0.0dev,>=3.20.3 in /usr/local/lib/python3.11/dist-packages (from tensorflow) (4.25.6)\n",
            "Requirement already satisfied: requests<3,>=2.21.0 in /usr/local/lib/python3.11/dist-packages (from tensorflow) (2.32.3)\n",
            "Requirement already satisfied: setuptools in /usr/local/lib/python3.11/dist-packages (from tensorflow) (75.1.0)\n",
            "Requirement already satisfied: six>=1.12.0 in /usr/local/lib/python3.11/dist-packages (from tensorflow) (1.17.0)\n",
            "Requirement already satisfied: termcolor>=1.1.0 in /usr/local/lib/python3.11/dist-packages (from tensorflow) (2.5.0)\n",
            "Requirement already satisfied: typing-extensions>=3.6.6 in /usr/local/lib/python3.11/dist-packages (from tensorflow) (4.12.2)\n",
            "Requirement already satisfied: wrapt>=1.11.0 in /usr/local/lib/python3.11/dist-packages (from tensorflow) (1.17.2)\n",
            "Requirement already satisfied: grpcio<2.0,>=1.24.3 in /usr/local/lib/python3.11/dist-packages (from tensorflow) (1.70.0)\n",
            "Requirement already satisfied: tensorboard<2.19,>=2.18 in /usr/local/lib/python3.11/dist-packages (from tensorflow) (2.18.0)\n",
            "Requirement already satisfied: keras>=3.5.0 in /usr/local/lib/python3.11/dist-packages (from tensorflow) (3.8.0)\n",
            "Requirement already satisfied: h5py>=3.11.0 in /usr/local/lib/python3.11/dist-packages (from tensorflow) (3.12.1)\n",
            "Requirement already satisfied: ml-dtypes<0.5.0,>=0.4.0 in /usr/local/lib/python3.11/dist-packages (from tensorflow) (0.4.1)\n",
            "Requirement already satisfied: tensorflow-io-gcs-filesystem>=0.23.1 in /usr/local/lib/python3.11/dist-packages (from tensorflow) (0.37.1)\n",
            "Requirement already satisfied: scipy>=1.6.0 in /usr/local/lib/python3.11/dist-packages (from scikit-learn) (1.13.1)\n",
            "Requirement already satisfied: joblib>=1.2.0 in /usr/local/lib/python3.11/dist-packages (from scikit-learn) (1.4.2)\n",
            "Requirement already satisfied: threadpoolctl>=3.1.0 in /usr/local/lib/python3.11/dist-packages (from scikit-learn) (3.5.0)\n",
            "Requirement already satisfied: python-dateutil>=2.8.2 in /usr/local/lib/python3.11/dist-packages (from pandas) (2.8.2)\n",
            "Requirement already satisfied: pytz>=2020.1 in /usr/local/lib/python3.11/dist-packages (from pandas) (2025.1)\n",
            "Requirement already satisfied: tzdata>=2022.7 in /usr/local/lib/python3.11/dist-packages (from pandas) (2025.1)\n",
            "Requirement already satisfied: contourpy>=1.0.1 in /usr/local/lib/python3.11/dist-packages (from matplotlib) (1.3.1)\n",
            "Requirement already satisfied: cycler>=0.10 in /usr/local/lib/python3.11/dist-packages (from matplotlib) (0.12.1)\n",
            "Requirement already satisfied: fonttools>=4.22.0 in /usr/local/lib/python3.11/dist-packages (from matplotlib) (4.56.0)\n",
            "Requirement already satisfied: kiwisolver>=1.3.1 in /usr/local/lib/python3.11/dist-packages (from matplotlib) (1.4.8)\n",
            "Requirement already satisfied: pillow>=8 in /usr/local/lib/python3.11/dist-packages (from matplotlib) (11.1.0)\n",
            "Requirement already satisfied: pyparsing>=2.3.1 in /usr/local/lib/python3.11/dist-packages (from matplotlib) (3.2.1)\n",
            "Requirement already satisfied: wheel<1.0,>=0.23.0 in /usr/local/lib/python3.11/dist-packages (from astunparse>=1.6.0->tensorflow) (0.45.1)\n",
            "Requirement already satisfied: rich in /usr/local/lib/python3.11/dist-packages (from keras>=3.5.0->tensorflow) (13.9.4)\n",
            "Requirement already satisfied: namex in /usr/local/lib/python3.11/dist-packages (from keras>=3.5.0->tensorflow) (0.0.8)\n",
            "Requirement already satisfied: optree in /usr/local/lib/python3.11/dist-packages (from keras>=3.5.0->tensorflow) (0.14.0)\n",
            "Requirement already satisfied: charset-normalizer<4,>=2 in /usr/local/lib/python3.11/dist-packages (from requests<3,>=2.21.0->tensorflow) (3.4.1)\n",
            "Requirement already satisfied: idna<4,>=2.5 in /usr/local/lib/python3.11/dist-packages (from requests<3,>=2.21.0->tensorflow) (3.10)\n",
            "Requirement already satisfied: urllib3<3,>=1.21.1 in /usr/local/lib/python3.11/dist-packages (from requests<3,>=2.21.0->tensorflow) (2.3.0)\n",
            "Requirement already satisfied: certifi>=2017.4.17 in /usr/local/lib/python3.11/dist-packages (from requests<3,>=2.21.0->tensorflow) (2025.1.31)\n",
            "Requirement already satisfied: markdown>=2.6.8 in /usr/local/lib/python3.11/dist-packages (from tensorboard<2.19,>=2.18->tensorflow) (3.7)\n",
            "Requirement already satisfied: tensorboard-data-server<0.8.0,>=0.7.0 in /usr/local/lib/python3.11/dist-packages (from tensorboard<2.19,>=2.18->tensorflow) (0.7.2)\n",
            "Requirement already satisfied: werkzeug>=1.0.1 in /usr/local/lib/python3.11/dist-packages (from tensorboard<2.19,>=2.18->tensorflow) (3.1.3)\n",
            "Requirement already satisfied: MarkupSafe>=2.1.1 in /usr/local/lib/python3.11/dist-packages (from werkzeug>=1.0.1->tensorboard<2.19,>=2.18->tensorflow) (3.0.2)\n",
            "Requirement already satisfied: markdown-it-py>=2.2.0 in /usr/local/lib/python3.11/dist-packages (from rich->keras>=3.5.0->tensorflow) (3.0.0)\n",
            "Requirement already satisfied: pygments<3.0.0,>=2.13.0 in /usr/local/lib/python3.11/dist-packages (from rich->keras>=3.5.0->tensorflow) (2.18.0)\n",
            "Requirement already satisfied: mdurl~=0.1 in /usr/local/lib/python3.11/dist-packages (from markdown-it-py>=2.2.0->rich->keras>=3.5.0->tensorflow) (0.1.2)\n"
          ]
        }
      ],
      "source": [
        "pip install tensorflow scikit-learn numpy pandas matplotlib seaborn"
      ]
    },
    {
      "cell_type": "code",
      "source": [
        "import tensorflow as tf\n",
        "print(tf.__version__)"
      ],
      "metadata": {
        "colab": {
          "base_uri": "https://localhost:8080/"
        },
        "id": "X4Ur5xPdBkHk",
        "outputId": "59f6f534-1f96-46c4-f41e-9cd90e846520"
      },
      "execution_count": 2,
      "outputs": [
        {
          "output_type": "stream",
          "name": "stdout",
          "text": [
            "2.18.0\n"
          ]
        }
      ]
    },
    {
      "cell_type": "code",
      "source": [
        "import pandas as pd\n",
        "import numpy as np\n",
        "from sklearn.preprocessing import MinMaxScaler\n",
        "from sklearn.model_selection import train_test_split\n",
        "import tensorflow as tf\n",
        "from tensorflow.keras.models import Sequential\n",
        "from tensorflow.keras.layers import LSTM, Dense, Dropout\n",
        "from tensorflow.keras.optimizers import Adam\n",
        "\n",
        "# Veri setlerini yükleyelim\n",
        "lap_times = pd.read_csv(\"lap_times.csv\")\n",
        "pit_stops = pd.read_csv(\"pit_stops.csv\")\n",
        "races = pd.read_csv(\"races.csv\")\n",
        "drivers = pd.read_csv(\"drivers.csv\")\n"
      ],
      "metadata": {
        "id": "9IxUYZ7sBnRf"
      },
      "execution_count": 4,
      "outputs": []
    },
    {
      "cell_type": "code",
      "source": [
        "import pandas as pd\n",
        "\n",
        "# Pit stop yapılan turlar için yeni bir DataFrame oluşturalım\n",
        "pit_stops_subset = pit_stops[['raceId', 'driverId', 'lap']].copy()\n",
        "pit_stops_subset['pit_stop'] = 1  # Pit stop yapılan turlara 1 ekleyelim\n",
        "\n",
        "# `lap_times` ile `pit_stops` verisini birleştirelim (left join ile)\n",
        "lap_times = lap_times.merge(pit_stops_subset, on=['raceId', 'driverId', 'lap'], how='left')\n",
        "\n",
        "# NaN olanları 0 yapalım (Pit stop yapılmayan turlar için)\n",
        "lap_times['pit_stop'] = lap_times['pit_stop'].fillna(0).astype(int)\n",
        "\n",
        "# Değişiklikleri kontrol edelim\n",
        "print(lap_times[['raceId', 'driverId', 'lap', 'pit_stop']].head(10))\n"
      ],
      "metadata": {
        "colab": {
          "base_uri": "https://localhost:8080/"
        },
        "id": "Tz9QJvWLEVuf",
        "outputId": "87ac5289-f973-4435-993d-e207769d6c1f"
      },
      "execution_count": 7,
      "outputs": [
        {
          "output_type": "stream",
          "name": "stdout",
          "text": [
            "   raceId  driverId  lap  pit_stop\n",
            "0       1         1    1         0\n",
            "1       1         1    2         0\n",
            "2       1         1    3         0\n",
            "3       1         1    4         0\n",
            "4       1         1    5         0\n",
            "5       1         1    6         0\n",
            "6       1         1    7         0\n",
            "7       1         1    8         0\n",
            "8       1         1    9         0\n",
            "9       1         1   10         0\n"
          ]
        }
      ]
    },
    {
      "cell_type": "code",
      "source": [
        "print(\"Güncellenmiş lap_times sütunları:\", lap_times.columns)\n"
      ],
      "metadata": {
        "colab": {
          "base_uri": "https://localhost:8080/"
        },
        "id": "Eb2XDJ9qEZ3V",
        "outputId": "440e95a0-0450-4738-c785-19d3ed178ac6"
      },
      "execution_count": 8,
      "outputs": [
        {
          "output_type": "stream",
          "name": "stdout",
          "text": [
            "Güncellenmiş lap_times sütunları: Index(['raceId', 'driverId', 'lap', 'position', 'time', 'milliseconds',\n",
            "       'milliseconds_scaled', 'pit_stop'],\n",
            "      dtype='object')\n"
          ]
        }
      ]
    },
    {
      "cell_type": "code",
      "source": [
        "# Zaman serisi sıralaması önemli\n",
        "lap_times = lap_times.sort_values(by=['raceId', 'driverId', 'lap'])\n",
        "\n",
        "# Min-Max Normalizasyonu\n",
        "scaler = MinMaxScaler()\n",
        "lap_times['milliseconds_scaled'] = scaler.fit_transform(lap_times[['milliseconds']])\n",
        "\n",
        "# Kullanacağımız geçmiş tur sayısı (LSTM için pencere uzunluğu)\n",
        "sequence_length = 5\n",
        "\n",
        "# X ve Y veri setlerini oluştur\n",
        "X, Y = [], []\n",
        "\n",
        "# Her sürücü için ayrı zaman serisi pencereleri oluştur\n",
        "for (race, driver), group in lap_times.groupby(['raceId', 'driverId']):\n",
        "    lap_times_list = group['milliseconds_scaled'].values  # Normalleştirilmiş tur süreleri\n",
        "    pit_stop_list = group['pit_stop'].values  # Pit stop yapılan turlar\n",
        "\n",
        "    for i in range(len(lap_times_list) - sequence_length - 5):\n",
        "        X.append(lap_times_list[i : i + sequence_length])\n",
        "        Y.append(1 if 1 in pit_stop_list[i + sequence_length : i + sequence_length + 5] else 0)\n",
        "\n",
        "# NumPy dizilerine çevir\n",
        "X = np.array(X)\n",
        "Y = np.array(Y)\n",
        "\n",
        "# Eğitim ve test setlerine ayır\n",
        "X_train, X_test, Y_train, Y_test = train_test_split(X, Y, test_size=0.2, random_state=42, stratify=Y)\n",
        "\n",
        "# LSTM giriş verisini 3D formata getirelim (batch_size, time_steps, features)\n",
        "X_train = np.expand_dims(X_train, axis=-1)\n",
        "X_test = np.expand_dims(X_test, axis=-1)\n",
        "\n",
        "print(\"Eğitim veri boyutu:\", X_train.shape, \"Test veri boyutu:\", X_test.shape)\n"
      ],
      "metadata": {
        "colab": {
          "base_uri": "https://localhost:8080/"
        },
        "id": "16_IkcntCAoc",
        "outputId": "f4b0d23f-a9be-4807-d61c-275ec882a976"
      },
      "execution_count": 10,
      "outputs": [
        {
          "output_type": "stream",
          "name": "stdout",
          "text": [
            "Eğitim veri boyutu: (385025, 5, 1) Test veri boyutu: (96257, 5, 1)\n"
          ]
        }
      ]
    },
    {
      "cell_type": "code",
      "source": [
        "# LSTM modelini tanımla\n",
        "model = Sequential([\n",
        "    LSTM(64, return_sequences=True, input_shape=(sequence_length, 1)),  # İlk LSTM katmanı\n",
        "    Dropout(0.2),  # Overfitting'i önlemek için\n",
        "    LSTM(32),  # İkinci LSTM katmanı\n",
        "    Dropout(0.2),\n",
        "    Dense(16, activation='relu'),  # Tam bağlı katman\n",
        "    Dense(1, activation='sigmoid')  # Çıktı katmanı (Binary classification için sigmoid)\n",
        "])\n",
        "\n",
        "# Modeli derle\n",
        "model.compile(loss='binary_crossentropy', optimizer=Adam(learning_rate=0.001), metrics=['accuracy'])\n",
        "\n",
        "# Modeli eğit\n",
        "history = model.fit(X_train, Y_train, epochs=10, batch_size=64, validation_data=(X_test, Y_test))\n",
        "\n",
        "# Modeli kaydet\n",
        "model.save(\"lstm_pitstop_model.h5\")\n"
      ],
      "metadata": {
        "colab": {
          "base_uri": "https://localhost:8080/"
        },
        "id": "5jlLE_FmEgT_",
        "outputId": "5228d29b-1471-47f4-a67a-f818c4ae1857"
      },
      "execution_count": 12,
      "outputs": [
        {
          "output_type": "stream",
          "name": "stdout",
          "text": [
            "Epoch 1/10\n",
            "\u001b[1m6017/6017\u001b[0m \u001b[32m━━━━━━━━━━━━━━━━━━━━\u001b[0m\u001b[37m\u001b[0m \u001b[1m41s\u001b[0m 6ms/step - accuracy: 0.8986 - loss: 0.3360 - val_accuracy: 0.9003 - val_loss: 0.3252\n",
            "Epoch 2/10\n",
            "\u001b[1m6017/6017\u001b[0m \u001b[32m━━━━━━━━━━━━━━━━━━━━\u001b[0m\u001b[37m\u001b[0m \u001b[1m38s\u001b[0m 6ms/step - accuracy: 0.9005 - loss: 0.3243 - val_accuracy: 0.9003 - val_loss: 0.3239\n",
            "Epoch 3/10\n",
            "\u001b[1m6017/6017\u001b[0m \u001b[32m━━━━━━━━━━━━━━━━━━━━\u001b[0m\u001b[37m\u001b[0m \u001b[1m38s\u001b[0m 6ms/step - accuracy: 0.9011 - loss: 0.3219 - val_accuracy: 0.9003 - val_loss: 0.3220\n",
            "Epoch 4/10\n",
            "\u001b[1m6017/6017\u001b[0m \u001b[32m━━━━━━━━━━━━━━━━━━━━\u001b[0m\u001b[37m\u001b[0m \u001b[1m38s\u001b[0m 6ms/step - accuracy: 0.9000 - loss: 0.3220 - val_accuracy: 0.9003 - val_loss: 0.3203\n",
            "Epoch 5/10\n",
            "\u001b[1m6017/6017\u001b[0m \u001b[32m━━━━━━━━━━━━━━━━━━━━\u001b[0m\u001b[37m\u001b[0m \u001b[1m38s\u001b[0m 6ms/step - accuracy: 0.8997 - loss: 0.3222 - val_accuracy: 0.9003 - val_loss: 0.3201\n",
            "Epoch 6/10\n",
            "\u001b[1m6017/6017\u001b[0m \u001b[32m━━━━━━━━━━━━━━━━━━━━\u001b[0m\u001b[37m\u001b[0m \u001b[1m38s\u001b[0m 6ms/step - accuracy: 0.9005 - loss: 0.3204 - val_accuracy: 0.9003 - val_loss: 0.3200\n",
            "Epoch 7/10\n",
            "\u001b[1m6017/6017\u001b[0m \u001b[32m━━━━━━━━━━━━━━━━━━━━\u001b[0m\u001b[37m\u001b[0m \u001b[1m38s\u001b[0m 6ms/step - accuracy: 0.9004 - loss: 0.3205 - val_accuracy: 0.9003 - val_loss: 0.3196\n",
            "Epoch 8/10\n",
            "\u001b[1m6017/6017\u001b[0m \u001b[32m━━━━━━━━━━━━━━━━━━━━\u001b[0m\u001b[37m\u001b[0m \u001b[1m38s\u001b[0m 6ms/step - accuracy: 0.9005 - loss: 0.3200 - val_accuracy: 0.9003 - val_loss: 0.3216\n",
            "Epoch 9/10\n",
            "\u001b[1m6017/6017\u001b[0m \u001b[32m━━━━━━━━━━━━━━━━━━━━\u001b[0m\u001b[37m\u001b[0m \u001b[1m38s\u001b[0m 6ms/step - accuracy: 0.9004 - loss: 0.3202 - val_accuracy: 0.9003 - val_loss: 0.3196\n",
            "Epoch 10/10\n",
            "\u001b[1m6017/6017\u001b[0m \u001b[32m━━━━━━━━━━━━━━━━━━━━\u001b[0m\u001b[37m\u001b[0m \u001b[1m38s\u001b[0m 6ms/step - accuracy: 0.9008 - loss: 0.3191 - val_accuracy: 0.9003 - val_loss: 0.3207\n"
          ]
        },
        {
          "output_type": "stream",
          "name": "stderr",
          "text": [
            "WARNING:absl:You are saving your model as an HDF5 file via `model.save()` or `keras.saving.save_model(model)`. This file format is considered legacy. We recommend using instead the native Keras format, e.g. `model.save('my_model.keras')` or `keras.saving.save_model(model, 'my_model.keras')`. \n"
          ]
        }
      ]
    },
    {
      "cell_type": "code",
      "source": [
        "# Modeli değerlendir\n",
        "test_loss, test_acc = model.evaluate(X_test, Y_test)\n",
        "print(f\"Test Doğruluğu: {test_acc:.4f}\")\n",
        "\n",
        "# Eğitim sürecini görselleştir\n",
        "import matplotlib.pyplot as plt\n",
        "\n",
        "plt.plot(history.history['accuracy'], label='Eğitim Doğruluğu')\n",
        "plt.plot(history.history['val_accuracy'], label='Doğrulama Doğruluğu')\n",
        "plt.xlabel(\"Epoch\")\n",
        "plt.ylabel(\"Doğruluk\")\n",
        "plt.legend()\n",
        "plt.title(\"Model Eğitimi Performansı\")\n",
        "plt.show()\n"
      ],
      "metadata": {
        "colab": {
          "base_uri": "https://localhost:8080/",
          "height": 506
        },
        "id": "mM-Uuu2YIyF6",
        "outputId": "75f5e479-25df-41af-caca-74f91dde2cf7"
      },
      "execution_count": 13,
      "outputs": [
        {
          "output_type": "stream",
          "name": "stdout",
          "text": [
            "\u001b[1m3009/3009\u001b[0m \u001b[32m━━━━━━━━━━━━━━━━━━━━\u001b[0m\u001b[37m\u001b[0m \u001b[1m8s\u001b[0m 3ms/step - accuracy: 0.9007 - loss: 0.3198\n",
            "Test Doğruluğu: 0.9003\n"
          ]
        },
        {
          "output_type": "display_data",
          "data": {
            "text/plain": [
              "<Figure size 640x480 with 1 Axes>"
            ],
            "image/png": "[encoded data removed]"
          },
          "metadata": {}
        }
      ]
    },
    {
      "cell_type": "code",
      "source": [
        "# Örnek bir sürücünün son 5 tur süresini kullanarak pit stop ihtimalini tahmin et\n",
        "def predict_pit_stop(last_5_laps):\n",
        "    last_5_laps = np.array(last_5_laps).reshape(1, sequence_length, 1)  # Modelin giriş boyutuna uygun hale getirme\n",
        "    prob = model.predict(last_5_laps)[0][0]\n",
        "    return f\"Pit Stop Yapma Olasılığı: {prob:.2f}\"\n",
        "\n",
        "# Örnek veri\n",
        "example_laps = X_test[0].flatten().tolist()  # Test setindeki bir sürücü verisi\n",
        "print(predict_pit_stop(example_laps))\n"
      ],
      "metadata": {
        "colab": {
          "base_uri": "https://localhost:8080/"
        },
        "id": "3ldZmrxSJVjp",
        "outputId": "9bb60834-d452-419b-ec9d-ee552a8e7501"
      },
      "execution_count": 14,
      "outputs": [
        {
          "output_type": "stream",
          "name": "stdout",
          "text": [
            "\u001b[1m1/1\u001b[0m \u001b[32m━━━━━━━━━━━━━━━━━━━━\u001b[0m\u001b[37m\u001b[0m \u001b[1m0s\u001b[0m 192ms/step\n",
            "Pit Stop Yapma Olasılığı: 0.07\n"
          ]
        }
      ]
    }
  ]
}